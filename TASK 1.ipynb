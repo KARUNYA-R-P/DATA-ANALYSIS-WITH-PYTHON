{
  "nbformat": 4,
  "nbformat_minor": 0,
  "metadata": {
    "colab": {
      "provenance": [],
      "collapsed_sections": [
        "tyZjotw4Vlwg"
      ],
      "gpuType": "T4"
    },
    "kernelspec": {
      "name": "python3",
      "display_name": "Python 3"
    },
    "language_info": {
      "name": "python"
    },
    "accelerator": "GPU"
  },
  "cells": [
    {
      "cell_type": "markdown",
      "source": [
        "## CREATING A LIST\n"
      ],
      "metadata": {
        "id": "JYV2o2JjORfr"
      }
    },
    {
      "cell_type": "code",
      "source": [
        "# Creating a list\n",
        "my_list = [1, 2, 3, 4, 5]\n",
        "print(\"Original List:\", my_list)"
      ],
      "metadata": {
        "colab": {
          "base_uri": "https://localhost:8080/"
        },
        "id": "0CJNDrfgObl2",
        "outputId": "77335d82-e5a3-4ab7-d358-d9083041773a"
      },
      "execution_count": 1,
      "outputs": [
        {
          "output_type": "stream",
          "name": "stdout",
          "text": [
            "Original List: [1, 2, 3, 4, 5]\n"
          ]
        }
      ]
    },
    {
      "cell_type": "markdown",
      "source": [
        "Basic operations on a list, such as\n",
        "1. Adding\n",
        "2. Inserting\n",
        "3. Removing\n",
        "4. Modifying\n",
        "5. Accessing\n",
        "6. Sorting\n",
        "7. Reversing elements\n",
        "8. Length of the list\n",
        "9. Maximum value in the list\n",
        "10. Minimum value in the list\n",
        "11. Count of an element\n",
        "12. Clearing the list"
      ],
      "metadata": {
        "id": "2D8A-ibHOmP3"
      }
    },
    {
      "cell_type": "code",
      "source": [
        "# Create a list\n",
        "my_list = [1, 2, 3, 4, 5]\n",
        "\n",
        "# Print the list\n",
        "print(\"Original list:\", my_list)\n",
        "\n",
        "# Append an element to the list\n",
        "my_list.append(6)\n",
        "print(\"After appending 6:\", my_list)\n",
        "\n",
        "# Insert an element at a specific position\n",
        "my_list.insert(2, 7)\n",
        "print(\"After inserting 7 at position 2:\", my_list)\n",
        "\n",
        "\n",
        "# Remove and return the last element from the list\n",
        "last_element = my_list.pop()\n",
        "print(\"Removed element:\", last_element)\n",
        "print(\"Updated list:\", my_list)\n",
        "\n",
        "\n",
        "# Remove the first occurrence of an element\n",
        "my_list.remove(4)\n",
        "print(\"After removing 4:\", my_list)\n",
        "\n",
        "\n",
        "\n",
        "# Sort the list in ascending order\n",
        "my_list.sort()\n",
        "print(\"Sorted list:\", my_list)\n",
        "\n",
        "# Reverse the list\n",
        "my_list.reverse()\n",
        "print(\"Reversed list:\", my_list)\n",
        "\n",
        "# Get the length of the list\n",
        "length = len(my_list)\n",
        "print(\"Length of the list:\", length)\n",
        "\n",
        "# Find the maximum value in the list\n",
        "max_value = max(my_list)\n",
        "print(\"Maximum value in the list:\", max_value)\n",
        "\n",
        "# Find the minimum value in the list\n",
        "min_value = min(my_list)\n",
        "print(\"Minimum value in the list:\", min_value)\n",
        "\n",
        "# Count the occurrences of the element 2\n",
        "count = my_list.count(2)\n",
        "print(\"Count of 2 in the list:\", count)\n",
        "\n",
        "# Access an element at a specific index\n",
        "element = my_list[2]\n",
        "print(\"Element at index 2:\", element)\n",
        "\n",
        "# Slice the list to get a subset of elements\n",
        "subset = my_list[1:4]\n",
        "print(\"Subset of elements from index 1 to 3:\", subset)\n",
        "\n",
        "\n",
        "# Clear the list\n",
        "my_list.clear()\n",
        "print(\"After clearing the list:\", my_list)"
      ],
      "metadata": {
        "colab": {
          "base_uri": "https://localhost:8080/"
        },
        "id": "KuP5E5sDQW4y",
        "outputId": "9728839f-0260-46bd-d485-f39ad3afafdc"
      },
      "execution_count": 7,
      "outputs": [
        {
          "output_type": "stream",
          "name": "stdout",
          "text": [
            "Original list: [1, 2, 3, 4, 5]\n",
            "After appending 6: [1, 2, 3, 4, 5, 6]\n",
            "After inserting 7 at position 2: [1, 2, 7, 3, 4, 5, 6]\n",
            "Removed element: 6\n",
            "Updated list: [1, 2, 7, 3, 4, 5]\n",
            "After removing 4: [1, 2, 7, 3, 5]\n",
            "Sorted list: [1, 2, 3, 5, 7]\n",
            "Reversed list: [7, 5, 3, 2, 1]\n",
            "Length of the list: 5\n",
            "Maximum value in the list: 7\n",
            "Minimum value in the list: 1\n",
            "Count of 2 in the list: 1\n",
            "Element at index 2: 3\n",
            "Subset of elements from index 1 to 3: [5, 3, 2]\n",
            "After clearing the list: []\n"
          ]
        }
      ]
    },
    {
      "cell_type": "markdown",
      "source": [
        "OPERATIONS WITH TWO LISTS\n",
        "1. Addition\n",
        "2. Subtraction\n",
        "3. Multiplication\n",
        "4. Division"
      ],
      "metadata": {
        "id": "XswzQ2qTeMb7"
      }
    },
    {
      "cell_type": "code",
      "source": [
        "# Define two lists\n",
        "list1 = [10, 20, 30, 40, 50]\n",
        "list2 = [2, 4, 6, 8, 10]\n",
        "\n",
        "# Element-wise addition\n",
        "addition = [x + y for x, y in zip(list1, list2)]\n",
        "print(\"Addition of two lists:\", addition)\n",
        "\n",
        "# Element-wise subtraction\n",
        "subtraction = [x - y for x, y in zip(list1, list2)]\n",
        "print(\"Subtraction of two lists:\", subtraction)\n",
        "\n",
        "# Element-wise multiplication\n",
        "multiplication = [x * y for x, y in zip(list1, list2)]\n",
        "print(\"Multiplication of two lists:\", multiplication)\n",
        "\n",
        "# Element-wise division (with handling for division by zero)\n",
        "division = [x / y if y != 0 else None for x, y in zip(list1, list2)]\n",
        "print(\"Division of two lists:\", division)\n"
      ],
      "metadata": {
        "id": "LnjUYaNqhCMl"
      },
      "execution_count": null,
      "outputs": []
    },
    {
      "cell_type": "markdown",
      "source": [
        "## DICTIONARY"
      ],
      "metadata": {
        "id": "wXZs3SXnRm1s"
      }
    },
    {
      "cell_type": "markdown",
      "source": [
        "\n",
        "BASIC OPERATIONS\n",
        "1. Creating a dictionary.\n",
        "2. Accessing a value by key\n",
        "3. Adding a new key-value pair\n",
        "4. Updating an existing value\n",
        "5. Removing a key-value pair\n",
        "6. Checking if a key exists\n",
        "7. Getting all keys\n",
        "8. Getting all values\n",
        "9. Getting all items (key-value pairs)\n",
        "10. Clearing the dictionary\n",
        "\n",
        "\n",
        "\n",
        "\n",
        "\n",
        "\n",
        "\n"
      ],
      "metadata": {
        "id": "8qfDH2qASF16"
      }
    },
    {
      "cell_type": "code",
      "source": [
        "# Create a dictionary\n",
        "my_dict = {\"name\": \"John\", \"age\": 30, \"city\": \"New York\"}\n",
        "\n",
        "# Print the dictionary\n",
        "print(\"Original dictionary:\", my_dict)\n",
        "\n",
        "# Access a value by key\n",
        "name = my_dict[\"name\"]\n",
        "print(\"Name:\", name)\n",
        "\n",
        "# Add a new key-value pair\n",
        "my_dict[\"country\"] = \"USA\"\n",
        "print(\"After adding a new key-value pair:\", my_dict)\n",
        "\n",
        "# Update an existing value\n",
        "my_dict[\"age\"] = 31\n",
        "print(\"After updating an existing value:\", my_dict)\n",
        "\n",
        "# Remove a key-value pair\n",
        "del my_dict[\"city\"]\n",
        "print(\"After removing a key-value pair:\", my_dict)\n",
        "\n",
        "# Check if a key exists\n",
        "if \"name\" in my_dict:\n",
        "    print(\"Key 'name' exists in the dictionary\")\n",
        "else:\n",
        "    print(\"Key 'name' does not exist in the dictionary\")\n",
        "\n",
        "# Get all keys\n",
        "keys = list(my_dict.keys())\n",
        "print(\"All keys:\", keys)\n",
        "\n",
        "# Get all values\n",
        "values = list(my_dict.values())\n",
        "print(\"All values:\", values)\n",
        "\n",
        "# Get all items (key-value pairs)\n",
        "items = list(my_dict.items())\n",
        "print(\"All items:\", items)\n",
        "\n",
        "# Clear the dictionary\n",
        "my_dict.clear()\n",
        "print(\"After clearing the dictionary:\", my_dict)"
      ],
      "metadata": {
        "colab": {
          "base_uri": "https://localhost:8080/"
        },
        "id": "129Y7t9_TDVc",
        "outputId": "e1cabdd2-ec95-4279-bef1-5519a4064de2"
      },
      "execution_count": 8,
      "outputs": [
        {
          "output_type": "stream",
          "name": "stdout",
          "text": [
            "Original dictionary: {'name': 'John', 'age': 30, 'city': 'New York'}\n",
            "Name: John\n",
            "After adding a new key-value pair: {'name': 'John', 'age': 30, 'city': 'New York', 'country': 'USA'}\n",
            "After updating an existing value: {'name': 'John', 'age': 31, 'city': 'New York', 'country': 'USA'}\n",
            "After removing a key-value pair: {'name': 'John', 'age': 31, 'country': 'USA'}\n",
            "Key 'name' exists in the dictionary\n",
            "All keys: ['name', 'age', 'country']\n",
            "All values: ['John', 31, 'USA']\n",
            "All items: [('name', 'John'), ('age', 31), ('country', 'USA')]\n",
            "After clearing the dictionary: {}\n"
          ]
        }
      ]
    },
    {
      "cell_type": "markdown",
      "source": [
        "## SET"
      ],
      "metadata": {
        "id": "m3SKnQ-SVVSX"
      }
    },
    {
      "cell_type": "markdown",
      "source": [
        "BASIC OPERATIONS\n",
        "\n",
        " 1. Adding\n",
        " 2. Removing\n",
        " 3. Modifying\n",
        " 4. Checking for elements\n",
        " 5. Getting the length\n",
        " 6. Clearing the set"
      ],
      "metadata": {
        "id": "tyZjotw4Vlwg"
      }
    },
    {
      "cell_type": "code",
      "source": [
        "# Creating a set\n",
        "my_set = {1, 2, 3, 4, 5}\n",
        "print(\"Original Set:\", my_set)\n",
        "\n",
        "# Adding an element to the set\n",
        "my_set.add(6)\n",
        "print(\"Set after adding an element:\", my_set)\n",
        "\n",
        "# Adding multiple elements to the set\n",
        "my_set.update([7, 8])\n",
        "print(\"Set after adding multiple elements:\", my_set)\n",
        "\n",
        "# Removing an element from the set (raises KeyError if the element is not found)\n",
        "my_set.remove(3)\n",
        "print(\"Set after removing the element '3':\", my_set)\n",
        "\n",
        "# Removing an element from the set (does not raise an error if the element is not found)\n",
        "my_set.discard(4)\n",
        "print(\"Set after discarding the element '4':\", my_set)\n",
        "\n",
        "# Modifying elements in the set\n",
        "# Since sets are unordered and elements cannot be directly modified,\n",
        "# we will remove an element and add a new one instead.\n",
        "my_set.discard(5)\n",
        "my_set.add(10)\n",
        "print(\"Set after modifying an element (replacing '5' with '10'):\", my_set)\n",
        "\n",
        "# Checking if an element exists in the set\n",
        "is_element_in_set = 10 in my_set\n",
        "print(\"Is element '10' in the set?\", is_element_in_set)\n",
        "\n",
        "# Checking the length of the set\n",
        "length_of_set = len(my_set)\n",
        "print(\"Length of the set:\", length_of_set)\n",
        "\n",
        "# Subset and Superset\n",
        "subset_set = {1, 2}\n",
        "superset_set = {1, 2, 3, 4, 5, 6}\n",
        "print(\"Is subset_set a subset of my_set?\", subset_set.issubset(my_set))\n",
        "print(\"Is my_set a superset of subset_set?\", my_set.issuperset(subset_set))\n",
        "\n",
        "# Disjoint Sets\n",
        "another_set = {9, 10}\n",
        "print(\"Are my_set and another_set disjoint?\", my_set.isdisjoint(another_set))\n",
        "\n",
        "# Adding more elements for further operations\n",
        "my_set.update({6, 7, 8})\n",
        "another_set.update({4, 5, 6})\n",
        "\n",
        "# Set operations\n",
        "# Union\n",
        "union_set = my_set.union(another_set)\n",
        "print(\"Union of sets:\", union_set)\n",
        "\n",
        "# Intersection\n",
        "intersection_set = my_set.intersection(another_set)\n",
        "print(\"Intersection of sets:\", intersection_set)\n",
        "\n",
        "# Difference\n",
        "difference_set = my_set.difference(another_set)\n",
        "print(\"Difference of sets:\", difference_set)\n",
        "\n",
        "# Symmetric Difference\n",
        "symmetric_difference_set = my_set.symmetric_difference(another_set)\n",
        "print(\"Symmetric difference of sets:\", symmetric_difference_set)\n",
        "\n",
        "\n",
        "# Clearing all elements from the set\n",
        "my_set.clear()\n",
        "print(\"Set after clearing all elements:\", my_set)\n"
      ],
      "metadata": {
        "colab": {
          "base_uri": "https://localhost:8080/"
        },
        "id": "pUOAkxYxVXMG",
        "outputId": "f05a35f7-14ab-4a0c-8543-79aed00c1b20"
      },
      "execution_count": 10,
      "outputs": [
        {
          "output_type": "stream",
          "name": "stdout",
          "text": [
            "Original Set: {1, 2, 3, 4, 5}\n",
            "Set after adding an element: {1, 2, 3, 4, 5, 6}\n",
            "Set after adding multiple elements: {1, 2, 3, 4, 5, 6, 7, 8}\n",
            "Set after removing the element '3': {1, 2, 4, 5, 6, 7, 8}\n",
            "Set after discarding the element '4': {1, 2, 5, 6, 7, 8}\n",
            "Set after modifying an element (replacing '5' with '10'): {1, 2, 6, 7, 8, 10}\n",
            "Is element '10' in the set? True\n",
            "Length of the set: 6\n",
            "Is subset_set a subset of my_set? True\n",
            "Is my_set a superset of subset_set? True\n",
            "Are my_set and another_set disjoint? False\n",
            "Union of sets: {1, 2, 4, 5, 6, 7, 8, 9, 10}\n",
            "Intersection of sets: {10, 6}\n",
            "Difference of sets: {8, 1, 2, 7}\n",
            "Symmetric difference of sets: {1, 2, 4, 5, 7, 8, 9}\n",
            "Set after clearing all elements: set()\n"
          ]
        }
      ]
    },
    {
      "cell_type": "code",
      "source": [],
      "metadata": {
        "id": "BviDZ8tsWLRr"
      },
      "execution_count": null,
      "outputs": []
    }
  ]
}